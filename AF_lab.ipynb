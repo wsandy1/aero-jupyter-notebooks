{
  "cells": [
    {
      "cell_type": "markdown",
      "metadata": {
        "id": "view-in-github",
        "colab_type": "text"
      },
      "source": [
        "<a href=\"https://colab.research.google.com/github/wsandy1/aero-jupyter-notebooks/blob/main/AF_lab.ipynb\" target=\"_parent\"><img src=\"https://colab.research.google.com/assets/colab-badge.svg\" alt=\"Open In Colab\"/></a>"
      ]
    },
    {
      "cell_type": "markdown",
      "metadata": {
        "id": "ycpwEZK4y8QT"
      },
      "source": [
        "# SESA/SESS 2022 - Aerofoil Lab"
      ]
    },
    {
      "cell_type": "markdown",
      "metadata": {
        "id": "YGnV0Au7y8QT"
      },
      "source": [
        "#### This Airfoil lab is designed to further your understanding of thin-foil theory section of this module. In this particular lab, you will carry out pressure distribution measurements using pressure tapping around a NACA0020 airfoil  and use the data to compute the lift coefficient and lift-curve slope of the airfoil.\n",
        "\n",
        "A total of 12 different angles of attack (-4 degrees to 14 degrees in steps of 2 degrees)  should be measured in this lab by your group. Each of you can take as many data points as possible within the allocated time. Ideally, each person takes 3-4 measurements spread out over the range. Please consult amongst yourselves to determine the measurements you will make. The same angle of attack should be used by at least two of you so that you can cross compare the results against each other. This will give you a good idea on how difficult it is to carry out consistent, independent and repeatable measurements.\n",
        "\n",
        " Upon completion of the measurements, complete the post-processing where you convert the mm of water to pressure coefficient and write the data files. Please share this data with each other. Carry out the analysis individually (this is really important). You should plot the pressure distribution and integrate the distribution to get the lift coefficient. Then, get together and compare your results with each other. When you carry out the analysis as a group, think about if you can use statistics when you present the results. For example, can two pressure distributions taken by two different people but at the same angle of attack be averaged and then used for further analysis? Use the data from everyone to plot the lift polar and obtain the lift curve slope. Compare that result to results obtained using XFOIL.\n",
        "\n",
        " Diversity of measurements (people, measurement method, approach) is really important and that would affect the overall results. Please discuss the similarities and differences of your results as this further helps understanding the material. Ultimately, you will need to arrive at a consensus result that you should present in the report.\n",
        "\n",
        "NOTE THAT YOU WILL NEED TO WRITE AN INDIVIDUAL REPORT WHERE YOU ARE PRESENTING THE RESULTS FROM THESE MEASUREMENTS. ALTHOUGH THE RAW DATA IS SHARED BETWEEN YOU AND DATA ANALYSIS IS PERFORMED COOPERATIVELY, THE FINAL REPORT IS WRITTEN INDIVIDUALLY WHERE YOU ARE EXPECTED TO PRESENT YOUR FINDINGS.\n",
        "\n",
        "## Finally, please read through this notebook in its entirely and watch the lab videos before you attend your lab session!"
      ]
    },
    {
      "cell_type": "markdown",
      "metadata": {
        "id": "UK-xnLxIy8QU"
      },
      "source": [
        "### Theoretical Considerations\n",
        "\n",
        "This section will provide you with the theoretical aspects required to understand the airfoil lab (or the infinite wing lab). The main objective of these experiments is to give you an insight into  two dimensional flow dynamics. First, we must define the operating environment and the operating conditions mainly to be able to create and assess the applicability of the assumptions framework. The operating environment is a low-speed open-loop wind tunnel with 100mm by 50mm cross section. The average temperature is approximately 20-25$^{\\circ}$C (you need to take a note of this from the thermometer) and the ambient pressure can be assumed as the standard sea level pressure. The operating conditions are represented by the wind tunnel's speed, which ranges from 10 to 40 m/s. There are two applicable assumptions that will be described separately: \\textit{inviscid flow} and \\textit{incompressible flow}. These two assumptions will greatly simplify our theoretical model.\n",
        "\n",
        "#### Inviscid flow\n",
        "\n",
        "There are no truly inviscid flows in nature as the phenomena of friction (viscosity), mass diffusion and thermal conduction always occur at a molecular level to a certain degree. However, in many engineering applications, these transport phenomena are mostly negligible, especially for high and finite Reynolds numbers flows. Therefore, the flow can be separated into two regions: the inviscid region and the viscous region. In the case of an aerofoil mounted in a flow at a low angle of attack, the viscous region is small and represented by the thin viscous boundary layer neighbouring the surface of the aerofoil. The inviscid region is represented by all the flow outside the boundary layer. **Given a wing chord $c=0.063m$, an upstream flow velocity $u=20 m/s$ and a kinematic viscosity $\\nu= 15.11\\times10^{-6} m^{2}/s$ ($Re=\\frac{u\\times c}{\\nu}$), how well is this assumption holding? Also, can the flow still be considered inviscid when the aerofoil is at high angles of attack at which separation occurs and hence a large wake is formed downstream?**\n",
        "\n",
        "#### Incompressible flow\n",
        "\n",
        "An incompressible flow is defined as a flow for which the working fluid density $\\rho$ is constant. There are, of course, more advanced definitions of what compressibility is which link to thermodynamic considerations, but a good approximation is that all flows for which Mach number (M) is less than 0.3, can be considered incompressible. **Hence, what are your comments regarding the applicability of the incompressibility assumption for the current case?**\n",
        "\n",
        "#### Bernoulli's Equation\n",
        "Using the assumptions of the inviscid and the incompressible flow, Bernoulli's equation becomes applicable. The equation is:\n",
        "\n",
        "\\begin{equation}\n",
        "p+\\frac{1}{2}\\rho u^2=const.\n",
        "\\label{Eqn:bernoulli1}\n",
        "\\end{equation}\n",
        "\n",
        "<h5><center>Equation 1</center></h5>\n",
        "\n",
        "Thus for an incompressible, inviscid flow, the static and dynamic pressures add up to a constant along streamlines.\n",
        "\n",
        "#### Irrotational flow\n",
        "If we consider an infinitesimal fluid element moving through the flow field, we can describe its orientation as a combination of both translation and rotation. Additionally, the fluid element may also change its shape, but this change can also be considered a combination of translation and rotation. The case on the right of Figure 1 shows on the upper streamline a fluid element where the angular velocities of its sides are zero, hence the flow is irrotational. The lower streamline of the case on the right shows a two dimensional fluid element where the angular velocities of the two intersecting sides are finite, but equal and opposite to each other and so their sum is identically zero; hence the flow is irrotational as well. **How well is this assumption holding for the current case? Explain only from a qualitative point of view**     \n",
        "\n",
        "<table style=\"width:60%\">    \n",
        "    \n",
        "<td><img src=\"attachment:irrotational.png\" ></td>  \n",
        "<tr>\n",
        "<td> Figure 1 - Rotational and irrotational Flow comparison </td>\n",
        "\n",
        "</table>\n",
        "If besides inviscid and incompressible, the flow is also irrotational, the value of the constant from Equation 1 is the same between all streamlines. Applying Bernoulli's equation far upstream:\n",
        "\n",
        "\\begin{equation}\n",
        "p_{\\infty}+\\frac{1}{2}\\rho u_{\\infty}^2=p_{0}\n",
        "\\end{equation}\n",
        "\n",
        "<h5><center>Equation 2</center></h5>\n",
        "\n",
        "where $p_{0}$ is defined as the stagnation or total pressure and the subscript $\\infty$ refers to the upstream conditions.\n",
        "\n",
        "#### Pressure coefficient\n",
        "The static pressures and velocities around the aerofoil differ from their upstream values. Assuming that there is a negligible variation of static pressure through the thin boundary layers on the surface of the aerofoil, Bernoulli's equation can be applied to relate the surface static pressure $p_{s}$ to the upstream conditions:\n",
        "\n",
        "\\begin{equation}\n",
        "p_{0}=p_{s}+\\frac{1}{2}\\rho u^2=p_{\\infty}+\\frac{1}{2}\\rho u_{\\infty}^2\n",
        "\\label{Eqn:bernoulli3}\n",
        "\\end{equation}\n",
        "<h5><center>Equation 3</center></h5>\n",
        "\n",
        "where $u$ is the velocity just outside the boundary layer. By defining the surface pressure coefficient, $C_{p}$ in the usual way, from Equation 3:\n",
        "\n",
        "\\begin{equation}\n",
        "C_{p}=\\frac{p_{s}-p_{\\infty}}{\\frac{1}{2}\\rho u_{\\infty}^2}=\\frac{p_{s}-p_{\\infty}}{p_{0}-p_{\\infty}} = \\frac{h_{s}-h_{\\infty}}{h_{0}-h_{\\infty}}\n",
        "\\label{Eqn:pressurecoeff}\n",
        "\\end{equation}\n",
        "<h4><center>Equation 4</center></h4>\n",
        "\n",
        "\n",
        "For the airfoil, we will assume the static pressure farther away from the airfoil surface is $p_{\\infty}$ and this will be measured through the use of a manometer, where the pressure is proportional to the column height and the inclination angle of the manometer (FEEG1003 Thermofluids for revision on how to use a manometer). Here $h_s$ is the mm of water in the manometer corresponding to the pressure tapping, $h_\\infty$ is the mm of water for freestream static pressure and $h_0$ is the mm of water corresponding to the stagnation pressure.\n",
        "\n",
        "The primary thing to note here is that all pressures are in mm of water (since we use water as the fluid in the manometer). Therefore, to convert the mm of water to pressure in pascals, you need to use $p = 0.001*h\\rho_w g cos\\theta$, where the factor 0.001 converts mm of water to m of water, $\\rho_w$ is the density of water and $g$ is acceleration due to gravity and $\\theta$ is the angle made by the manometer to the vertical. It is important to note that $\\rho_w$ is not the same as $\\rho$. The $\\rho$ is the density of the fluid that flowing past the airfoil. In your case that is air and this density can be determined using ideal gas equation if you know the atmospheric pressure and the room temperature. $\\rho_w$ is the density of the fluid in the manometer and it is only relevant to convert the mm of fluid in the manometer in to a pascals. For everthing else you need to use $\\rho$.\n",
        "\n",
        "If you look at the above equation carefully, you will see that angle fo the manometer and the density of the fluid does not really matter to compute $C_p$. This is because they appear in all terms in the numerator and denominator. Therefore, they will cancel and the equation of $C_p$ can be written entirely in terms of mm of fluid in the manometer column.\n",
        "\n",
        "The experimental setup is fitted with a number of pressure tappings on both the top and bottom surfaces that are connected to a multi-manometer; this will allow you to measure the static pressures at points around the aerofoil. A standard pitot-static probe is mounted at the inlet to the contraction and the inlet of the test section to read the stagnation pressure as well as the freestream static pressure. The coefficients of pressure around the aerofoil can be determined using these readings.\n",
        "\n",
        "Once you have the pressure coefficients you can integrate them to calcuate lift and drag. Note that the drag you will measure is only the pressure drag and would not include the viscous contribution.  \n",
        "\n",
        "#### Force considerations\n",
        "In general terms an aerofoil at a geometric angle of attack $ \\alpha$.\n",
        "\n",
        "<table style=\"width:80%\">    \n",
        "    \n",
        "<td><img src=\"attachment:Aerolab%20lift.png\" ></td>  \n",
        "<tr>\n",
        "<td> Figure 2 - Wing dimensions diagram and force considerations across the wing section </td>\n",
        "\n",
        "</table>\n",
        "The objective now is to determine the lift and drag force coefficients using the readings provided by the pressure tappings. This can be done by first resolving the pressure along the body (tangential) and perpendicular to the body (normal). Then, these components can be integrated to obtain the forces as follows,\n",
        "\n",
        "  \\begin{equation}\n",
        "   \\begin{split}\n",
        "    C_{N} &=\\frac{N}{\\frac{1}{2}\\rho u_{\\infty}^2 c}=\\frac{1}{c} \\cdot \\int_{0}^{c} (C_{p,l} - C_{p,u}) \\cdot dx\\\\\n",
        "    C_{T} &=\\frac{T}{\\frac{1}{2}\\rho u_{\\infty}^2 c}=\\frac{1}{c} \\cdot \\int_{0}^{c} (C_{p,u} \\cdot \\frac{dy_{u}}{dx} - C_{p,l} \\cdot \\frac{dy_{l}}{dx}) \\cdot dx\n",
        "   \\label{Eqn:force4}\n",
        "   \\end{split}\n",
        "  \\end{equation}\n",
        "<h4><center>Equation 7</center></h4>\n",
        "\n",
        "Here $\\rho$ is the air density, $u_{\\infty}$ is the upstream wind velocity and $c$ is the wing chord. $\\frac{dy_{u}}{dx}$ and $\\frac{dy_{l}}{dx}$ are slope of the aerofoil surface at the location of the tappings on the upper and lower surfaces. These slopes allow us to resolve the forces along the geoemtry and perpendicular to the geometry. In the above, we have made a simplification that the curvature of the airfoil only affects tangential force and does not really change normal force.\n",
        "\n",
        "Finally, we can compute lift coefficient from the normal and tangential force coefficients. Note that lift is always perpendicular to the flow direction and the drag is always along the flow direction. We have obtained the normal and tangtial force coeffcients. These are relative to the geometry. They need to be converted relative to the flow to get lift. This can be done with simple trignometry as follows:\n",
        "\n",
        " \\begin{equation}\n",
        "      C_{l} =C_{N}\\cos(\\alpha)-C_{T}\\sin(\\alpha)\n",
        "    \\label{Eqn:force5}\n",
        "    \\end{equation}\n",
        "    \n",
        "   <h4><center>Equation 8</center></h4>\n",
        "\n",
        "For the above equation, if $\\alpha$ is small, then, the normal force coeffcient and the lift coefficient will be very similar to each other.\n",
        "\n"
      ]
    },
    {
      "cell_type": "markdown",
      "metadata": {
        "id": "902Elw-ky8QU"
      },
      "source": [
        "### Theory\n",
        "The objective of this brief section is to refresh assumptions under which this theory is applicable and also, to refresh some of its consequences. Requirements:\n",
        "* As the name states, the maximum aerofoil thickness must be small compared to the chord length. You will be using a NACA0020 airfoil section where the maximum thickness of the wing is approximately 12.6 $mm$ and the chord is 63 $mm$.\n",
        "* The theory is restricted to low angles of attack.\n",
        "* The flow must be both inviscid and incompressible.\n",
        "* The flow must be two-dimensional.\n",
        "\n",
        "**Given the current experimental conditions, how applicable are these assumptions?**\n",
        "This theory predicts the following key points for aerofoils which respect the aforementioned requirements:\n",
        "* Lift coefficient is directly proportional with AoA and the proportionality parameter is $2\\pi$ (i.e. $\\frac{dC_{L}}{d\\alpha}=2\\pi$).\n",
        "* On a symmetric aerofoil - no camber - the centre of pressure is located at the quarter-chord behind LE.\n",
        "* For any aerofoil - with or without camber - the aerodynamic centre is located at the quarter-chord behind LE.\n",
        "\n",
        "Numerically, the coefficient of lift of an aerofoil within the assumptions of thin aerofoil theory is,\n",
        "\n",
        "  \\begin{equation}\n",
        "       C_{l}= 2\\pi(\\alpha-\\alpha_{0})\n",
        "      \\label{Eqn:thinaerofoil1}\n",
        "     \\end{equation}\n",
        "<h4><center>Equation 9</center></h4>\n",
        "\n",
        "where $\\alpha_{0}$ represents the angle of attack at zero lift and $\\alpha$ represents the geometric AoA. The value $2\\pi$ is the theoretical lift curve slope and in your experiment coudl give an answer slighty different than this. The value of $\\alpha_0$ represents the added effect of the camber on the coefficient of lift. For a symmetric aerofoil, the value of $\\alpha_0$ is 0. Furthermore, the value of $\\alpha_0$ can be either positive or negative, depending on a positive or negative camber, respectively. You are required to compare the experimental results with the theoretical expectations of the thin aerofoil theory.Refer to the lecture notes for further details about the theory.\n",
        "\n",
        "Note that there are uncertainties in the measurments including setting the zero angle of attack. If the lift for this airfoil is not zero at zero angle of attack, then that means there is an inherent uncertainty in the measurement. Morevoer, there is an uncertainty in carrying out numerical integration based on a fixed number of points. Both these will result in non-zero values of lift. This is acceptable and should be noted as an uncertainty. Therefore, it is likely that the measured lift curve slope different (most probably less) than theory.\n",
        "\n",
        " On a similar note, thin aerofoil theory neglects the viscous effects. In the actual flow, a boundary layer will form on the aerofoil surface which imparts additional drag through skin friction. At high angles of attack there may also be flow separation. These effects will also be dependent on the surface roughness of the aerofoil, since a rough surface can lead to an early transition to turbulence. Accounting for these effects would require more complicated CFD such as RANS which is not within the scope of this module.\n",
        "\n",
        "Finally, comparison to XFOIL (which is similar to the theory) could have challenges. For example, XFOIL in inviscid mode does not capture any of above mentioned viscous effects. Moreover, depending on the number of panels used, you might get some answers at lower Reynolds numbers that are different to the theory. In XFOIL, it is possible to include viscous effects by setting a Reynolds number and transition points for the top and bottom surfaces. If you set a laminar boundary layer, the lift produced will be different form turbulent boundary layer. Given that the surface of the experimental airfoil is rough, it is resonable to set a transition point of 5% of the chord length (for both surfaces) in XFOIL since the roughness of the airfoil will most certainly trigger early transition. With this, XFOIL can use include turbulent viscous flow model in to the calculations. Further details of the transition process is covered in Part 3 Wing Aerodynamics, however, at this stage it is sufficient to say that including a turbulent boundary layer in to the XFOIL model could lead to comparable results to the experiments.\n",
        "\n",
        "It is assumed here that you will consider the above points when you prepare your lab report and use them for discussing your results."
      ]
    },
    {
      "cell_type": "markdown",
      "metadata": {
        "id": "WgoQrQcPy8QU"
      },
      "source": [
        "## Experiment\n",
        "\n",
        "The objective of this experiment is to examine the pressure distribution around an aerofoil of effectively infinite span, in order to show the effects of incidence changes and to determine the lift of the aerofoil. The pressure tappings data is to be compared with XFoil data. Please make sure that you have followed and understood the theoretical background outlined before continuing."
      ]
    },
    {
      "cell_type": "markdown",
      "metadata": {
        "id": "FYoa5U3Dy8QU"
      },
      "source": [
        "## Import required modules"
      ]
    },
    {
      "cell_type": "code",
      "execution_count": 1,
      "metadata": {
        "id": "sC9C2Llby8QV"
      },
      "outputs": [],
      "source": [
        "import numpy as np\n",
        "import matplotlib.pyplot as plt\n",
        "from numpy import cos\n",
        "from numpy import sin\n",
        "import os\n",
        "import pandas as pd"
      ]
    },
    {
      "cell_type": "markdown",
      "metadata": {
        "id": "X17ru8xjy8QV"
      },
      "source": [
        "## Required functions"
      ]
    },
    {
      "cell_type": "code",
      "execution_count": 2,
      "metadata": {
        "code_folding": [],
        "id": "613upWEHy8QV"
      },
      "outputs": [],
      "source": [
        "def Aerofoil(x):\n",
        "    '''This function takes the x coordinate and returns the positive y coordinate of the aerofoil'''\n",
        "    t=0.20\n",
        "    y = (5*t)*((0.2969*x**0.5)-(0.1260*x)-(0.3516*x**2)+(0.2843*x**3)-(0.1015*x**4))\n",
        "    return(y)"
      ]
    },
    {
      "cell_type": "markdown",
      "metadata": {
        "id": "6OSYZirMy8QV"
      },
      "source": [
        "## General Data\n",
        "Enter the temperature in degrees and the Pressure in Pa in the below cell then enter a formula to calculate the Density which will be required later. If you did not attend the lab, then, you use the default value of air density as 1.2 $kg/m^3$. This will lead to some uncertainty in the measured value of $C_p$ and $C_l$, but, you can acknowledge that. You will not be penalised for it."
      ]
    },
    {
      "cell_type": "code",
      "execution_count": 3,
      "metadata": {
        "id": "EmHUrEbsy8QW"
      },
      "outputs": [],
      "source": [
        "Temperature_deg = 21.5 #degrees C\n",
        "Pressure= 100000 #Pa\n",
        "\n",
        "Temperature_kelvin = Temperature_deg + 273.15 #K\n"
      ]
    },
    {
      "cell_type": "markdown",
      "metadata": {
        "id": "m2eVowtFy8QW"
      },
      "source": [
        "The aerofoil spans the wind tunnel's working section, thus ideally generating a two-dimensional flow. Around the aerofoil, 12 pressure tappings are fitted - small diameter holes (2.5 mm), through a 3D printed aerofoil with tapping tubes connected. These pressure tappings enable the surface static pressure $p_{s}$ to be measured at various stations. Each pressure tube is connected to a manometer. The dynamic pressure, $ q_{\\infty}=\\frac{1}{2}\\rho u_{\\infty}^2 $, can be obtained from the pressure difference, $p_{0}-p_{\\infty}$, using Equation equation 3. You will read the height of the different tappings and  $p_{\\infty}$ is proportional to the difference between the tapping tube height and the atm height. The pressure coefficients at various points on the aerofoil are found using Equation 4. A layout of the pressure tappings can be found below."
      ]
    },
    {
      "cell_type": "code",
      "execution_count": 4,
      "metadata": {
        "id": "dUUbea1yy8QW",
        "colab": {
          "base_uri": "https://localhost:8080/",
          "height": 430
        },
        "outputId": "54918a2b-bef4-4bc5-e051-4ea829bb3c6d"
      },
      "outputs": [
        {
          "output_type": "display_data",
          "data": {
            "text/plain": [
              "<Figure size 640x480 with 1 Axes>"
            ],
            "image/png": "[encoded data removed]"
          },
          "metadata": {}
        }
      ],
      "source": [
        "#This is set up so if the aerofoil is turned clockwise the upper surface with have the tapping positons below otherwise\n",
        "#just switch upper and lower surface around\n",
        "x = [1, 2, 4.5, 7.5, 11, 14.5, 20, 26, 32.1, 38, 44, 50]\n",
        "xc_upper= []\n",
        "xc_lower =[]\n",
        "for i in range(12):\n",
        "    if i % 2 == 0:\n",
        "        xc_lower.append(x[i]/63)\n",
        "    if i % 2 == 1:\n",
        "        xc_upper.append(x[i]/63)\n",
        "\n",
        "plt.plot([Aerofoil(i) for i in xc_upper], xc_upper, 'ro', label= 'Upper Surface Tappings')\n",
        "plt.plot([Aerofoil(i) for i in np.linspace(0,1,100)], np.linspace(0,1,100), 'g-')\n",
        "plt.plot([-Aerofoil(i) for i in xc_lower], xc_lower, 'bo', label = 'Lower Surface Tappings')\n",
        "plt.plot([-Aerofoil(i) for i in np.linspace(0,1,100)], np.linspace(0,1,100), 'g-')\n",
        "plt.gca().invert_yaxis()\n",
        "plt.legend(loc='center left', bbox_to_anchor=(1, 0.5))\n",
        "plt.grid()\n",
        "plt.axis('scaled')\n",
        "plt.show()"
      ]
    },
    {
      "cell_type": "markdown",
      "metadata": {
        "id": "R72K_Q-Py8QW"
      },
      "source": [
        "## Data collection"
      ]
    },
    {
      "cell_type": "markdown",
      "metadata": {
        "id": "wrfKseREy8QW"
      },
      "source": [
        "### Set the freestream speed to approximately 25 m/s (This is equivalent to $Re_c \\approx 100,000$)\n",
        "\n",
        "You can set the speed by turning the handle such that the difference between the total pressure and static pressure has a value of 35mm (if the manometer is not inclined). For a density of 1.2 $kg/m^3$ and a chord length of 0.063m, this value of pressure difference gives approximately 25 m/s. However, you can make the calculations and figure out the right value.\n",
        "\n",
        "Bernoulli's Principle:\n",
        "\n",
        "$P_0 - P_s = \\frac{1}{2} \\rho U^2$\n",
        "\n",
        "Express pressure change in terms of manometer levels\n",
        "\n",
        "$\\rho_{water} g (h_0 - h_s) \\cos(\\theta) = \\frac{1}{2} \\rho U^2$\n",
        "\n",
        "Re-arrange to find the correct $\\Delta h$ for the required velocity\n",
        "\n",
        "$h_0 - h_s = \\frac{1}{2} \\frac{\\rho}{\\rho_{water}} \\frac{1}{g \\cos(\\theta)} U^2$\n",
        "\n",
        "\n",
        "## You need to pick 3 different angles of attack in consultation with your group. Then take the data for these angles and save the files accordingly. There are three boxes below to take readings for three angles of attack. If you have the time to take more data, please add more copy and paste the boxes below and record further data."
      ]
    },
    {
      "cell_type": "code",
      "execution_count": 5,
      "metadata": {
        "id": "DE2VzSMAy8QW",
        "outputId": "1a397b02-7956-42b8-d78c-ea9d30bb5fd9",
        "colab": {
          "base_uri": "https://localhost:8080/"
        }
      },
      "outputs": [
        {
          "output_type": "stream",
          "name": "stdout",
          "text": [
            "Required delta h: 37.66974429019962mm\n"
          ]
        }
      ],
      "source": [
        "rho=Pressure/(287*Temperature_kelvin)# density of air (fill with your own value depending on today's weather)\n",
        "rho_w=1000 # density of water\n",
        "U=25\n",
        "g=9.81\n",
        "theta=0 # inclination of manometer to the vertical in radians\n",
        "delta_h = 0.5 * (rho/rho_w) * (1/(g*np.cos(theta))) * U**2\n",
        "print(\"Required delta h: \" + str(delta_h*1000) + \"mm\")"
      ]
    },
    {
      "cell_type": "markdown",
      "metadata": {
        "id": "H5YpaErSy8QX"
      },
      "source": [
        "## You need to pick 3 different angles of attack in consultation with your group. Then take the data for these angles and save the files accordingly. There are three boxes below to take readings for three angles of attack. If you have the time to take more data, please add more copy and paste the boxes below and record further data."
      ]
    },
    {
      "cell_type": "markdown",
      "metadata": {
        "id": "Vi-g2MGpy8QX"
      },
      "source": [
        "### X1 degrees (First angle of attack)\n",
        "\n",
        "With the aerofoil set to XX degrees (enter the angle), enter the manometer readings which can be used for during data processing. A summary of the data can be seen in the summary table below. When turning the aerofoil clockwise the tappings on the left hand side will be the lower surface and therefore put them on the tappings 1-6 then upper surface will be 7 to 12."
      ]
    },
    {
      "cell_type": "code",
      "execution_count": 6,
      "metadata": {
        "code_folding": [],
        "id": "a9Y3Hwofy8QX",
        "colab": {
          "base_uri": "https://localhost:8080/",
          "height": 106
        },
        "outputId": "898e94fc-4393-4a9f-9dc0-8192f4cc29d4"
      },
      "outputs": [
        {
          "output_type": "error",
          "ename": "SyntaxError",
          "evalue": "invalid syntax (ipython-input-1898596310.py, line 1)",
          "traceback": [
            "\u001b[0;36m  File \u001b[0;32m\"/tmp/ipython-input-1898596310.py\"\u001b[0;36m, line \u001b[0;32m1\u001b[0m\n\u001b[0;31m    Angle_1 =       #Enter your angle of attack in degrees\u001b[0m\n\u001b[0m                    ^\u001b[0m\n\u001b[0;31mSyntaxError\u001b[0m\u001b[0;31m:\u001b[0m invalid syntax\n"
          ]
        }
      ],
      "source": [
        "Angle_1 = 0      #Enter your angle of attack in degrees\n",
        "\n",
        "Total_deg = 218     #This is the total pressure at infinity and is also used in computing Cp\n",
        "Static_deg = 180   #This is the static pressure at infinity and is also used in computing Cp\n",
        "\n",
        "#The below readings for one left hand side of the foil (if you turn the foil clockwise - this will be lower side)\n",
        "deg_tapping1 = 188\n",
        "deg_tapping2 = 160\n",
        "deg_tapping3 = 153\n",
        "deg_tapping4 = 156\n",
        "deg_tapping5 = 163\n",
        "deg_tapping6 = 167\n",
        "#The below readings are right hand side of the foil (if you turn the foil clockwise - this will be the upper side)\n",
        "deg_tapping7 = 170\n",
        "deg_tapping8 = 152\n",
        "deg_tapping9 = 152\n",
        "deg_tapping10 = 159\n",
        "deg_tapping11 = 164\n",
        "deg_tapping12 = 174\n",
        "\n",
        "deg1 = [Total_deg,Static_deg,deg_tapping1,deg_tapping2,deg_tapping3,deg_tapping4,\n",
        "           deg_tapping5,deg_tapping6,deg_tapping7,deg_tapping8,deg_tapping9,deg_tapping10,\n",
        "           deg_tapping11,deg_tapping12]\n",
        "\n",
        "\n",
        "Index_deg1 = ['P_tot', 'P_static', 'LWR x/c = 0.0159', 'LWR x/c = 0.0714', 'LWR x/c = 0.175', 'LWR x/c = 0.317',\n",
        "              'LWR x/c = 0.510','LWR x/c = 0.698','UPPER x/c = 0.0317', 'UPPER x/c = 0.119', 'UPPER x/c = 0.230',\n",
        "              'UPPER x/c = 0.413', 'UPPER x/c = 0.603', 'UPPER x/c = 0.794']\n",
        "\n",
        "d = {'Variable': Index_deg1,'Manometer Reading (mm)':deg1}\n",
        "df = pd.DataFrame(d)\n",
        "\n",
        "filename = str(Angle_1) + \"_deg.csv\"\n",
        "#YOU NEED TO CHANGE THE FILE NAME TO MATCH THE ANGLE OF ATTACK THAT YOU USE\n",
        "df.to_csv(filename, index=False)"
      ]
    },
    {
      "cell_type": "markdown",
      "metadata": {
        "id": "JSmVjqxky8QX"
      },
      "source": [
        "### X2 degrees (Second angle of attack)\n",
        "\n",
        "With the aerofoil set to X2 degrees (enter the angle), enter the manometer readings which can be used for during data processing. A summary of the data can be seen in the summary table below. When turning the aerofoil clockwise the tappings on the left hand side will be the lower surface and therefore put them on the tappings 1-6 then upper surface will be 7 to 12."
      ]
    },
    {
      "cell_type": "code",
      "execution_count": null,
      "metadata": {
        "code_folding": [],
        "id": "8HeVoK8jy8QX"
      },
      "outputs": [],
      "source": [
        "Angle_2 = -8      #Enter your angle of attack in degrees\n",
        "\n",
        "Total_deg = 219\n",
        "Static_deg = 182   #This is the static pressure at infinity and is also used in computing Cp\n",
        "\n",
        "#The below readings for one left hand side of the foil (if you turn the foil clockwise - this will be lower side)\n",
        "deg_tapping1 = 128\n",
        "deg_tapping2 = 112\n",
        "deg_tapping3 = 125\n",
        "deg_tapping4 = 138\n",
        "deg_tapping5 = 156\n",
        "deg_tapping6 = 166\n",
        "#The below readings are right hand side of the foil (if you turn the foil clockwise - this will be the upper side)\n",
        "deg_tapping7 = 209\n",
        "deg_tapping8 = 184\n",
        "deg_tapping9 = 175\n",
        "deg_tapping10 = 174\n",
        "deg_tapping11 = 175\n",
        "deg_tapping12 = 178\n",
        "\n",
        "deg2 = [Total_deg,Static_deg,deg_tapping1,deg_tapping2,deg_tapping3,deg_tapping4,\n",
        "           deg_tapping5,deg_tapping6,deg_tapping7,deg_tapping8,deg_tapping9,deg_tapping10,\n",
        "           deg_tapping11,deg_tapping12]\n",
        "Index_deg2 = ['P_tot', 'P_static', 'LWR x/c = 0.0159', 'LWR x/c = 0.0714', 'LWR x/c = 0.175', 'LWR x/c = 0.317',\n",
        "              'LWR x/c = 0.510','LWR x/c = 0.698','UPPER x/c = 0.0317', 'UPPER x/c = 0.119', 'UPPER x/c = 0.230',\n",
        "              'UPPER x/c = 0.413', 'UPPER x/c = 0.603', 'UPPER x/c = 0.794']\n",
        "\n",
        "d = {'Variable': Index_deg2,'Manometer Reading (mm)':deg2}\n",
        "df = pd.DataFrame(d)\n",
        "\n",
        "filename = str(Angle_2) + \"_deg.csv\"\n",
        "#YOU NEED TO CHANGE THE FILE NAME TO MATCH THE ANGLE OF ATTACK THAT YOU USE\n",
        "df.to_csv(filename, index=False)"
      ]
    },
    {
      "cell_type": "markdown",
      "metadata": {
        "id": "qoyK0aC5y8QX"
      },
      "source": [
        "### X3 degrees (Third angle of attack)\n",
        "\n",
        "With the aerofoil set to X3 degrees (enter the angle), enter the manometer readings which can be used for during data processing. A summary of the data can be seen in the summary table below. When turning the aerofoil clockwise the tappings on the left hand side will be the lower surface and therefore put them on the tappings 1-6 then upper surface will be 7 to 12."
      ]
    },
    {
      "cell_type": "code",
      "execution_count": null,
      "metadata": {
        "code_folding": [],
        "id": "ObCd9Yk7y8QX"
      },
      "outputs": [],
      "source": [
        "Angle_3 = 8     #Enter your angle of attack in degrees\n",
        "\n",
        "Total_deg = 219\n",
        "Static_deg = 182   #This is the static pressure at infinity and is also used in computing Cp\n",
        "\n",
        "#The below readings for one left hand side of the foil (if you turn the foil clockwise - this will be lower side)\n",
        "deg_tapping1 = 213\n",
        "deg_tapping2 = 195\n",
        "deg_tapping3 = 180\n",
        "deg_tapping4 = 174\n",
        "deg_tapping5 = 174\n",
        "deg_tapping6 = 176\n",
        "#The below readings are right hand side of the foil (if you turn the foil clockwise - this will be the upper side)\n",
        "deg_tapping7 = 111\n",
        "deg_tapping8 = 118\n",
        "deg_tapping9 = 130\n",
        "deg_tapping10 = 151\n",
        "deg_tapping11 = 162\n",
        "deg_tapping12 = 171\n",
        "\n",
        "deg3 = [Total_deg,Static_deg,deg_tapping1,deg_tapping2,deg_tapping3,deg_tapping4,\n",
        "           deg_tapping5,deg_tapping6,deg_tapping7,deg_tapping8,deg_tapping9,deg_tapping10,\n",
        "           deg_tapping11,deg_tapping12]\n",
        "Index_deg3 = ['P_tot', 'P_static', 'LWR x/c = 0.0159', 'LWR x/c = 0.0714', 'LWR x/c = 0.175', 'LWR x/c = 0.317',\n",
        "              'LWR x/c = 0.510','LWR x/c = 0.698','UPPER x/c = 0.0317', 'UPPER x/c = 0.119', 'UPPER x/c = 0.230',\n",
        "              'UPPER x/c = 0.413', 'UPPER x/c = 0.603', 'UPPER x/c = 0.794']\n",
        "\n",
        "d = {'Variable': Index_deg3,'Manometer Reading (mm)':deg3}\n",
        "df = pd.DataFrame(d)\n",
        "\n",
        "filename = str(Angle_3) + \"_deg.csv\"\n",
        "#YOU NEED TO CHANGE THE FILE NAME TO MATCH THE ANGLE OF ATTACK THAT YOU USE\n",
        "df.to_csv(filename, index=False)"
      ]
    },
    {
      "cell_type": "markdown",
      "metadata": {
        "id": "4AjM0PAly8QX"
      },
      "source": [
        "# STALLED AIRFOIL\n",
        "\n",
        "Finally, set the angle of attack of the airfoil at 20 degrees (or maybe a bit more), then observe what happens to the liquid columns of the pressure tappings.\n",
        "Do you see the columns moving around with time?\n",
        "Why do you think this happens?"
      ]
    },
    {
      "cell_type": "markdown",
      "metadata": {
        "id": "toJfPKvgy8QX"
      },
      "source": [
        "## More data\n",
        "\n",
        "#### Within your group, you should have a complete dataset from -4 degrees to 14 degrees with some of you repeating the same angles for cross checking and consistency. Please share the data for all the angles with each other so that you can use them for analysis.\n",
        "\n",
        "#### If for any reason you are not able to obtain the data for the entire range of angles, a master dataset was obtained earlier this year and this is made available on blackboard. Please make sure that you only use this as a last resort."
      ]
    },
    {
      "cell_type": "markdown",
      "metadata": {
        "id": "15tVFs0iy8QX"
      },
      "source": [
        "### Post-processing"
      ]
    },
    {
      "cell_type": "markdown",
      "metadata": {
        "id": "3Hc4N2SOy8QX"
      },
      "source": [
        "The first step is to define a function to find the velocity of the flow taking the total and static pressure as inputs.\n",
        "\n",
        "Following this define a function to calculate the pressure coefficent taking the velocity, static pressure at the tapping and the atmospheric pressure.\n",
        "\n",
        "Once the two above functions have been define, create a function to take the data for each angle of attack for further processing.\n",
        "\n",
        "The file structure is as follows:  The first 3 values can be used to calculate the velocity the flow, while the others can be used to calculate the Cp on the upper and lower surfaces. Remember that tappings 1 to 6 are the lower and 7 to 12 are the upper if you turned the aerofoil clockwise.\n",
        "\n",
        "Remember to use the x coordinate array that we made earlier for the lower and upper surfaces. These values in terms of $x/c$ is also given in the file. Split the pressures in to two lists/arrays for the lower and upper surfaces. This will make it easy to carry out the integration and also useful for plotting.\n",
        "\n",
        "The slope of the aerofoil will be needed and this can be calculated from the aerofoil equation for an aerofoil, the tapping locations can be found above on the plot and therefore the gradient can be calculated.\n",
        "\n",
        "$y_t = 5 \\cdot t \\cdot [0.2969 \\cdot \\sqrt{x} - 0.1260 \\cdot x -0.3516 \\cdot x^2 - 0.1015 \\cdot x^4]$\n",
        "\n",
        "You can just compute the derivative analytically and then use that formula to get $dy_u/dx$ and $dy_l/dx$. This way, you can just get the values at the location of the pressure tapping.\n",
        "\n",
        "Note that in this equation all units are non-dimensionalised with respect to chord length (so x = 1 is the trailing edge of the airfoil and t is the thickness of the airfoil in terms of chord length). In order to find $C_N$ and $C_T$, you will need to integrate the pressure distribution. This can be done by using the trapezium rule or the simpson's rule."
      ]
    },
    {
      "cell_type": "code",
      "execution_count": null,
      "metadata": {
        "code_folding": [],
        "id": "PqUOFqBpy8QX"
      },
      "outputs": [],
      "source": [
        "# Define a function to calculate the Velocity\n",
        "\n",
        "\n",
        "# Define a function to calculate the Cp\n",
        "\n",
        "\n",
        "# Define a function to process the array\n",
        "\n",
        "\n",
        "# Define a function to find the slope of the aerofoil\n",
        "\n",
        "\n",
        "# Define a function function to find Cl by integrating the pressure coefficient"
      ]
    },
    {
      "cell_type": "markdown",
      "metadata": {
        "id": "5btEpYAZy8QY"
      },
      "source": [
        "# The following analysis will be expected in the report\n",
        "\n",
        "1. Plot the pressure distribution for some angles of attack (you should compare this against the XFOIL). The covention is to plot -Cp in the y-axis and the chord location (x/c) in the x-axis. (compare against XFOIL). You only need to present the data for the 3 angles that you carried out.It would be ideal to present comparison not only with XFOIL but also other experimental data at the same angles from your group. There should be at least one other person with at least one angle of attack.  \n",
        "2. Integrate the pressure distribution to calculate the lift coefficient. Note that for lift coefficient you will be expected to use the data from everyone in your group and compute the lift coefficient across all angles of attack (-4 to 14 degrees).\n",
        "3. Plot the lift coefficient against angle of attack (compare against XFOIL).\n",
        "4. Calculate the lift curve slope and compare against XFOIL and theory (thin foil theory)"
      ]
    },
    {
      "cell_type": "code",
      "execution_count": null,
      "metadata": {
        "id": "DzrxBuOvy8QY"
      },
      "outputs": [],
      "source": []
    }
  ],
  "metadata": {
    "kernelspec": {
      "display_name": "Python 3 (ipykernel)",
      "language": "python",
      "name": "python3"
    },
    "language_info": {
      "codemirror_mode": {
        "name": "ipython",
        "version": 3
      },
      "file_extension": ".py",
      "mimetype": "text/x-python",
      "name": "python",
      "nbconvert_exporter": "python",
      "pygments_lexer": "ipython3",
      "version": "3.11.11"
    },
    "colab": {
      "provenance": [],
      "include_colab_link": true
    }
  },
  "nbformat": 4,
  "nbformat_minor": 0
}