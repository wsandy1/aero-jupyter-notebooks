{
  "cells": [
    {
      "cell_type": "markdown",
      "metadata": {
        "id": "view-in-github",
        "colab_type": "text"
      },
      "source": [
        "<a href=\"https://colab.research.google.com/github/wsandy1/aero-jupyter-notebooks/blob/main/BL_Lab.ipynb\" target=\"_parent\"><img src=\"https://colab.research.google.com/assets/colab-badge.svg\" alt=\"Open In Colab\"/></a>"
      ]
    },
    {
      "cell_type": "markdown",
      "metadata": {
        "id": "hoVLBu6JwfOI"
      },
      "source": [
        "# SESX 2022 - Boundary Layer Lab"
      ]
    },
    {
      "cell_type": "markdown",
      "metadata": {
        "id": "QM5IlW5wwfOJ"
      },
      "source": [
        "#### This boundary layer lab aims to enhance your comprehension of the viscous flow concepts covered in this module. In this specific lab, you will conduct mean flow measurements over a flat plate using a pitot tube to obtain a boundary layer profile. This data will be utilized for in-depth analysis.\n",
        "\n",
        "#### It is important to note that the results from this lab are directly required for the final report. Specifically, you will be tasked with determining the viscous drag coefficient of a finite wing. Additionally, you are expected to demonstrate your understanding of a boundary layer profile.\n",
        "\n",
        "\n",
        "The lab involves a total of six measurements at different speeds, which will be carried out collectively as a group. Your fellow lab session participants are considered part of your group. We recommend that each group member takes measurements at 1-2 speeds. Collaboration among group members is encouraged to decide on the specific measurements to be taken.\n",
        "\n",
        "Once the measurements are completed, please share and exchange the data with each other. Subsequently, perform the analysis during your designated lab session. Come together as a group to compare and discuss your results. When presenting your findings, consider incorporating statistical methods for a more comprehensive analysis.\n",
        "\n",
        "Diversity in measurements, encompassing variations in participants, measurement methods, and approaches, is of utmost importance as it can impact the overall results. Engage in discussions regarding both the similarities and differences in your results, as this will foster a deeper understanding. Ultimately, aim to reach a consensus result that enriches your understanding of boundary layers and experimental measurements.\n",
        "\n",
        "Lastly, it is strongly recommended that you thoroughly review this lab notebook and watch the accompanying lab videos before attending your scheduled lab session.\n",
        "\n",
        "## Enjoy the lab experience!"
      ]
    },
    {
      "cell_type": "markdown",
      "metadata": {
        "id": "lxV7NbMXwfOK"
      },
      "source": [
        "### Introduction\n",
        "\n",
        "When a fluid flows over a solid surface there is no slip at the surface. Therefore, the fluid in immediate contact with a surface has a relative velocity of zero at the surface. The velocity of the fluid changes from zero at the surface to the free stream velocity through a thin layer which is called the boundary layer. This boundary layer is responsible for the viscous drag incurred by the surface. A ship or an aircraft has to overcome this viscous drag. The boundary layer itself can be laminar or turbulent depending the conditions. In this experiment, you will investigate the the boundary layer over a flat plate in different speeds and determine the viscous drag (and local skin-friction coefficient) incurred by the surface.\n",
        "\n",
        "#### Description of equipment\n",
        "\n",
        "<table style=\"width:70%\">\n",
        "<td> Figure 1a - Setup of Boundary Layer Equipment </td>\n",
        "<td> Figure 1b - Diagram showing measurement configuration  </td>\n",
        "   \n",
        "<tr>\n",
        "<td> <img src=\"attachment:picture%20of%20bl.png\" > </td>     \n",
        "<td> <img src=\"attachment:diagram%20of%20bl.png\" > </td>\n",
        "</table>\n",
        "\n",
        "\n",
        "\n",
        "Figure 1 shows the layout of the test section. It is attached to the outlet of the contraction of the wind-tunnel. A flat plate is placed in the middle of the section, with a sharp leading edge. One side of the plate is smooth and the other is rough. In this experiment only the smooth side of the flat plate is used. A fine Pitot tube is used to make a traverse through the boundary layer at a section near the exit of the test section. This tube is a delicate instrument which must be handled with extreme care to avoid damage. The end of the tube is flattened so that it measures the pressure at approximately one point. The tube is 1 mm thick so that when the Pitot tube just touches the wall the pressure measured is approximately the pressure at 0.5 mm. A micrometer reading is used to measure the distance of the Pitot tube from the wall. The location of the pitot probe from the leading edge of the flat plate can be altered by adjusting the fixtures of the plate (on the side). In this experiment, you will place the pitot at two different positions from the leading edge of the plate and carry out measurements at two different speeds.\n",
        "\n",
        "\n",
        "<table style=\"width:80%\">    \n",
        "    \n",
        "<td><img src=\"attachment:flat%20plate.png\" ></td>  \n",
        "<tr>\n",
        "<td> Figure 2 - Flow on a flat plate </td>\n",
        "\n",
        "</table>\n",
        "\n",
        "\n",
        "### Theory\n",
        "\n",
        "The average flow over a flat smooth plate is shown in figure 2 where the free stream velocity Ue is constant over the length of the plate. The thickness of the boundary layer grows along the length of the plate as indicated. The boundary layer is laminar at the beginning, but if the plate is sufficiently long, a transition to turbulence is observed. The growth of a turbulent boundary layer is faster than that of a laminar boundary layer. The transition is produced by small disturbances in the boundary layer which can suddenly grow very rapidly. The Reynolds number $Re_x$ based on the distance x from the leading edge is an important characteristic parameter for the point of transition:\n",
        "\n",
        "$Re_x = \\frac{U_e \\cdot x}{\\nu}$ (1)\n",
        "<br>\n",
        "Where $U_e$ is the free stream velocity, x is the streamwise location, and  $\\nu$ the kinematic viscosity. If the surface of the flat-plate is rough, then, transition is likely to occur very early and the boundary layer will be turbulent even for low Reynolds numbers.\n",
        "\n",
        "\n",
        "The free-stream velocity $U_e$ is obtained using Bernoulli’s equation:\n",
        "<br>\n",
        "\n",
        "$P_{t_o} - P_s = \\frac{1}{2} \\rho U_e^2$ (2)\n",
        "\n",
        "where, $P_{t_0}$ is the free stream total pressure and $P_s$ is the static pressure (This static pressure is the same everywhere in the flow and can be measured from the reference tap at the inlet of the test section). Note the density can be derived using the ideal gas equation if you know the atmospheric pressure and temperature (Recall from Part 1 thermofluids). Similarly, the dynamic viscosity can be evaluated from the static air temperature of the room (T) using Sutherland’s formula,\n",
        "\n",
        "$\\mu = 1.716\\times10^{-5}\\left(\\frac{T}{273}\\right)^{1.5}\\left(\\frac{384}{111+T}\\right)$ (3)\n",
        "\n",
        "\n",
        "The pressure is determined using a inclined manomter where you need to read the height of the liquid column as accurately as possible. Initially the manometer is set up vertically. However, if you are unable to read any differences with the manometer in that position, then you should incline the manometer (to say 30 to 45 degrees to the vertical) and note that angle down. This angle is required for you to calculate the pressure. The conversion from height of liquid column (in mm) to pressure in Pa is,\n",
        "\n",
        "$P = 0.001h~\\rho_w~g~{\\rm cos}\\theta$ (4)\n",
        "\n",
        "where, $P$ is the pressure you want to calculate (this can be total pressure or static pressure depending on the measurement), $\\rho_w$ is the density of the fluid in the manometer (which is water for you), $g$ is the acceleration due to gravity and $\\theta$ is the angle with respect to the vertical direction. This above equation can be used to convert all liquid column heights to pressure in pascals. You can then convert the pressure to velocity using the Bernoulli equation. Once the velocities are computed, then, you can compute the velocity ratio that is necessary to determine the boundary layer characteristics.\n",
        "\n",
        "Alternately, the velocity ratio in the boundary layer can be measured directly by using pressure of the traversing the pitot probe (which is traversed in a direction normal to the flat plate).\n",
        "\n",
        "$\\frac{U}{U_e} = \\sqrt{\\frac{P_t - P}{P_{t_o} - P}}$ (5)\n",
        "\n",
        "where, $P_t$ is the total pressure at single point in the boundary layer. As the pitot probe is traversed through the boundary layer, the ratio in the above equation will start to approach the value of 1. Once, you are outside the boundary layer, this value will be equal to 1 (or nearly 1).\n",
        "\n",
        "Approximate forms for the variation of the average velocity within boundary layers with zero free stream pressure gradient are\n",
        "\n",
        "$\\frac{U}{U_e} = \\frac{y}{\\delta} (2 - \\frac{y}{\\delta})$  \n",
        "                                                                                           $\\frac{U}{U_e} = \\frac{y}{\\delta}^{\\frac{1}{n}}$     (6)\n",
        "\n",
        "where $\\delta$ is the local boundary layer thickness. The top equation is known as Blasius relation for a laminar boundary layer while the next equation is the power-law form for a turbulent boundary layer. The exponent n varies from 5 to 9 depending on Reynolds number. The figure below shows the form of the two equations (with n=5, we are going to use n = 5 in our analysis).\n",
        "\n",
        "<table style=\"width:80%\">\n",
        "<td> Figure 3a - Laminar and turbulent velocity profiles </td>\n",
        "<td> Figure 3b - Definition of the displacement thickness in a boundary layer  </td>\n",
        "   \n",
        "<tr>\n",
        "    \n",
        "<td><img src=\"attachment:profile1.png\" ></td>\n",
        "<td><img src=\"attachment:profile2.png\" ></td>  \n",
        "</table>\n",
        "From the measurements, you might expect to find the boundary layer thickness, but it is very difficult to determine the boundary layer thickness. Often the boundary layer thickness is also defined as the thickness where the velocity has reached 99% of the free stream velocity. So, when you determine the value of $\\delta$, you should try and fit a curve to the outer-part of the BL data and determine where $U = 0.99U_e$.\n",
        "\n",
        "\n",
        "A better way to define a characteristic length of the boundary layer is the displacement and momentum thickness (please revise this from Part 1 Thermofluids module and the Section 2 Viscous flow of this module).\n",
        "\n",
        "The displacement thickness δ* is defined as:\n",
        "\n",
        "<br>\n",
        "$\\delta^* = \\int_{0}^{\\infty} (1 - \\frac{U}{U_e}) dy $ (7)\n",
        "\n",
        "\n",
        "<br>\n",
        "\n",
        "The momentum thickness $\\theta$ is defined as,\n",
        "\n",
        "<br>\n",
        "\n",
        "$\\theta = \\int_{0}^{\\infty} (\\frac{U}{U_e})(1 - \\frac{U}{U_e}) dy $ (8)\n",
        "\n",
        "<br>\n",
        "\n",
        "Note that in the above integral the units of displacement/momentum thickness is the units of dy. So, if you measure the distance in mm, then by computing this integral, you should get displacement and momentum thicknesses in mm. You can calculate both these values from the data by performing a numerical integration of the above equation. Use trapzoidal or simpson's rule (from your part 1 computing) to evaluate this integral. Alternately, you can fit the power law to your data, determine the value of $n$ for the exponent and then carry out an analytical integration to get $\\theta$ and $\\delta^*$.\n",
        "\n",
        "\n",
        "The displacement thickness can be seen as the thickness required to compensate the loss of the mass flow due to growing boundary layer. The momentum thickness is the thickness required to account for the loss of momentum flux due to the growing boundary layer.\n",
        "\n",
        "\n",
        "\n",
        "<table style=\"width:80%\">\n",
        "<td> Property </td>\n",
        "<td> Laminar </td>\n",
        "<td> Turbulent n= 7 </td>\n",
        "<td> Turbulent n=5 </td>\n",
        "    \n",
        "<tr>\n",
        "<td>Boundary Layer Thickness</td>\n",
        "<td>$\\frac{\\delta}{x}=\\frac{4.91}{\\sqrt{Re_x}}$</td>\n",
        "<td>$\\frac{\\delta}{x}=\\frac{0.16}{{Re_{x}}^{\\frac{1}{7}}}$</td>\n",
        "<td> $\\frac{\\delta}{x}=\\frac{0.38}{{Re_{x}}^{\\frac{1}{5}}}$</td>    \n",
        "    \n",
        "<tr>\n",
        "    \n",
        "<td>Displacement Thickness</td>\n",
        "<td>$\\frac{\\delta^*}{x}=\\frac{1.72}{\\sqrt{Re_x}}$</td>\n",
        "<td>$\\frac{\\delta^*}{x}=\\frac{0.02}{{Re_{x}}^{\\frac{1}{7}}}$</td>\n",
        "<td> $\\frac{\\delta^*}{x}=\\frac{0.048}{{Re_{x}}^{\\frac{1}{5}}}$</td>\n",
        "\n",
        "<tr>\n",
        "    \n",
        "<td>Momentum Thickness</td>\n",
        "<td>$\\frac{\\theta}{x}=\\frac{0.664}{\\sqrt{Re_x}}$</td>\n",
        "<td>$\\frac{\\theta}{x}=\\frac{0.016}{{Re_{x}}^{\\frac{1}{7}}}$</td>\n",
        "<td> $\\frac{\\theta}{x}=\\frac{0.037}{{Re_{x}}^{\\frac{1}{5}}}$</td>\n",
        "\n",
        "    \n",
        "</table>\n",
        "Table 1 - This tables provides theoretical equations for boundary layer, momentum and displacement thicknesses for different flow types. Here x is the distance from the leading edge of the flat plate and Rex is the Reynolds number based on the distance from the leading edge of the flat plate.\n"
      ]
    },
    {
      "cell_type": "markdown",
      "metadata": {
        "id": "Wa5nb0gxwfOK"
      },
      "source": [
        "# The Experiment\n",
        "\n",
        "In this experiment, you will conduct measurements using a smooth flat plate positioned within the wind tunnel. The total length of the plate is 265mm, which should be confirmed using the provided ruler. The initial measurement point is situated near the trailing edge of the flat plate, with a distance of 265mm from the leading edge (please ensure accurate measurement). At this specific location, you will move the pitot total probe across the boundary layer to record the velocity profile. The collected data will be utilized for determining the characteristics of the boundary layer. This information will enable you to examine the relationships between various boundary layer parameters (𝛿, 𝛿∗, and 𝜃) and the Reynolds number based on the measurement location (𝑅𝑒𝐿).\n",
        "\n",
        "When positioning the probe at the trailing-edge point, your objective is to conduct measurements at different Reynolds numbers. To achieve this, you must calculate the necessary freestream speed to attain the desired Reynolds number and consequently, the total pressure measurement required for these specific readings."
      ]
    },
    {
      "cell_type": "markdown",
      "metadata": {
        "id": "eJWKeXsOwfOK"
      },
      "source": [
        "### Import required modules for processing"
      ]
    },
    {
      "cell_type": "code",
      "execution_count": null,
      "metadata": {
        "id": "ops3SKSHwfOK"
      },
      "outputs": [],
      "source": [
        "import numpy as np\n",
        "import matplotlib.pyplot as plt\n",
        "import os\n",
        "import pandas as pd"
      ]
    },
    {
      "cell_type": "markdown",
      "metadata": {
        "id": "nyScp6T_wfOL"
      },
      "source": [
        "## General Data\n",
        "Enter the temperature in degrees and the Pressure in Pa in the below cell then enter a formula to calculate the Density which will be required later"
      ]
    },
    {
      "cell_type": "code",
      "execution_count": null,
      "metadata": {
        "id": "SNC4OtrdwfOL"
      },
      "outputs": [],
      "source": [
        "Temperature_deg = 21.5 #Degrees C\n",
        "Pressure= 100100 #Pa\n",
        "\n",
        "Temperature_kelvin = Temperature_deg + 273 #K\n",
        "rho =  Pressure/(287*Temperature_kelvin) #Kg/m^3 (You need to enter the formula to determine density from pressure and temperature with gas constant)"
      ]
    },
    {
      "cell_type": "markdown",
      "metadata": {
        "id": "d6s87y2ywfOL"
      },
      "source": [
        "# Data collection"
      ]
    },
    {
      "cell_type": "markdown",
      "metadata": {
        "id": "fZgvYVuDwfOL"
      },
      "source": [
        "## Reynolds number variations"
      ]
    },
    {
      "cell_type": "markdown",
      "metadata": {
        "id": "u9BmxUb0wfOM"
      },
      "source": [
        "In this segment, you will focus on measuring the pressure within the boundary layer of a smooth flat plate. To capture the boundary layer's velocity profile, you will perform a traverse using the Pitot tube. Begin by establishing the point where the Pitot probe makes contact with the wall (with the wind tunnel operating). Gently slide the Pitot tube to the left until its tip touches the plate. Exercise caution during this process to avoid potential damage. Upon the tip's contact with the plate, record the micrometer reading (this serves as your traverse's zero point, serving as the origin).\n",
        "\n",
        "Your measurements will extend towards the trailing edge of the plate. Initial measurements involve determining the probe's distance from the flat plate's leading edge, using the provided ruler. This measurement is crucial for calculating the Reynolds number based on 𝐿.\n",
        "\n",
        "Subsequently, take readings for both total and static pressure from the manometer. Proceed to calculate the freestream velocity in the subsequent step, adjusting the handle until the desired Reynolds number is achieved. Working as a group, you will conduct measurements for a total of six different cases. Ensure adequate spacing to cover a wide range of Reynolds numbers. Depending on your group size, 2-3 students can use each wind tunnel.\n",
        "\n",
        "Once the Reynolds number is set, record these readings in the designated variables below. Finally, determine the micrometer reading when the probe just touches the wall, noting this reading in the provided wall offset variable cells."
      ]
    },
    {
      "cell_type": "code",
      "execution_count": null,
      "metadata": {
        "id": "VcjZA_-rwfOM"
      },
      "outputs": [],
      "source": [
        "xloc1 = 0.265 #distance in m of the location of measurement from the leading edge.\n",
        "\n",
        "# Enter the micrometer reading when the probe is just touching the wall\n",
        "#This is value in mm\n",
        "wall_offset = 9.41\n",
        "\n",
        "nu = 1.5383e-5 # m^2/s - kinematic viscosity of air (not that an accurate value can be computed using the measured temperature)\n",
        "rho_water = 1000 #kg/m^3\n",
        "g = 9.81 # m/s^2\n",
        "theta = 60 #Angle of inclination of the manometer with the vertical in degrees.\n",
        "\n",
        "# Reynolds number 1\n",
        "total_manometer_1 = 140 # Manometer reading in mm for total pressure\n",
        "static_manometer_1 = 122 #Manometer reading in mm for static pressure\n",
        "\n",
        "# Reynolds number 2\n",
        "total_manometer_2 = 234 # Manometer reading in mm for total pressure\n",
        "static_manometer_2 = 130 #Manometer reading in mm for static pressure\n",
        "\n",
        "\n",
        "#Need to convert height to m and then convert m of water in to velocity.\n",
        "#The below equation is just converting total and static pressure to velocity\n",
        "#The cos(theta) is there to take the inclination of the manometer in to account - Part 1 Thermofluids!!\n",
        "\n",
        "Ue1 = np.sqrt(2*0.001*(total_manometer_1 - static_manometer_1)*np.cos(theta*np.pi/180)*rho_water*g/rho)\n",
        "Ue2 = np.sqrt(2*0.001*(total_manometer_2 - static_manometer_2)*np.cos(theta*np.pi/180)*rho_water*g/rho)\n",
        "\n",
        "ReL1 = Ue1*xloc1/nu\n",
        "ReL2 = Ue2*xloc1/nu\n",
        "\n"
      ]
    },
    {
      "cell_type": "markdown",
      "metadata": {
        "id": "-JMxpELbwfOM"
      },
      "source": [
        "### BOUNDARY LAYER AT THE ABOVE MEASURED REYNOLDS NUMBERS\n",
        "\n",
        "Each member of your group will conduct individual measurements at 1-2 Reynolds numbers within the specified range of velocities. Share your measurements with the rest of the group for collaboration. Determine amongst yourselves which Reynolds numbers each member will work on. While waiting for your group members to complete their measurements, you can begin processing the data you have collected earlier.\n",
        "\n",
        "Begin your measurements outside the boundary layer, approximately 10 mm away from the wall. Confirm that you are indeed outside the boundary layer by comparing the pressure readings of the pitot probe and the total probe. If these values do not match, increase the distance from the plate. Start with step sizes of 2mm initially, gradually decreasing the step size as you approach the wall, as indicated in the instructions. Accuracy is crucial, especially when determining the micrometer reading at zero distance from the plate. Enter the micrometer readings in the cells below; you will later convert these to wall distances during data processing.\n",
        "\n",
        "For this profile, you will take around 13 readings. Having more data points here will lead to better curve fitting and numerical integration results. It's important to note that you don't need to run this notebook during the actual experiment. You can record the height values from the manometer on paper and later complete the information in the designated cells.\n",
        "\n",
        "Keep up the good work, and remember that thorough measurements and accurate data collection will contribute to the success of your experiment!"
      ]
    },
    {
      "cell_type": "markdown",
      "metadata": {
        "id": "3N__TrOpwfOM"
      },
      "source": [
        "## $ReL= $ # CASE 1"
      ]
    },
    {
      "cell_type": "code",
      "execution_count": null,
      "metadata": {
        "id": "4qGcY8ZcwfOM"
      },
      "outputs": [],
      "source": [
        "#Probe should be ~10mm of wall (These are approximate distances)\n",
        "Micrometerreading_1 = 19.41\n",
        "Manometerreading_1 = 140\n",
        "\n",
        "#Probe should be ~8mm of wall (These are approximate distances)\n",
        "Micrometerreading_2 = 17.41\n",
        "Manometerreading_2 = 140\n",
        "\n",
        "#Probe should be ~7mm of wall (These are approximate distances)\n",
        "Micrometerreading_3 = 16.41\n",
        "Manometerreading_3 = 140\n",
        "\n",
        "#Probe should be ~6mm of wall (These are approximate distances)\n",
        "Micrometerreading_4 = 15.41\n",
        "Manometerreading_4 = 140\n",
        "\n",
        "#Probe should be ~5mm of wall (These are approximate distances)\n",
        "Micrometerreading_5 = 14.41\n",
        "Manometerreading_5 = 140\n",
        "\n",
        "#Probe should be ~4mm of wall (These are approximate distances)\n",
        "Micrometerreading_6 = 13.41\n",
        "Manometerreading_6 = 139\n",
        "\n",
        "#Probe should be ~3mm of wall (These are approximate distances)\n",
        "Micrometerreading_7 = 12.41\n",
        "Manometerreading_7 = 138\n",
        "\n",
        "#Probe should be ~2mm of wall (These are approximate distances)\n",
        "Micrometerreading_8 = 11.41\n",
        "Manometerreading_8 = 137\n",
        "\n",
        "#Probe should be ~1.8mm of wall (These are approximate distances)\n",
        "Micrometerreading_9 = 11.21\n",
        "Manometerreading_9 = 137\n",
        "\n",
        "#Probe should be ~1.4mm of wall (These are approximate distances)\n",
        "Micrometerreading_10 = 10.81\n",
        "Manometerreading_10 = 136\n",
        "\n",
        "#Probe should be ~1mm of wall (These are approximate distances)\n",
        "Micrometerreading_11 = 10.41\n",
        "Manometerreading_11 = 134\n",
        "\n",
        "#Probe should be ~0.6mm of wall (These are approximate distances)\n",
        "Micrometerreading_12 = 10.01\n",
        "Manometerreading_12 = 132\n",
        "\n",
        "#Probe should be ~0.2mm of wall(These are approximate distances)\n",
        "Micrometerreading_13 = 9.61\n",
        "Manometerreading_13 = 130\n",
        "\n",
        "# Enter the micrometer reading when the probe is just touching the wall\n",
        "#This is value in mm\n",
        "wall_offset = 9.41\n",
        "\n",
        "# We are going to take the above manometer values, compile that into an array and convert the pressure readings to velocity.\n",
        "# Note that the numbers are entered in to the array in reverse order so that the data appears from the wall to the freestream\n",
        "#This is easier to plot and also write to file and carry out curve fits during analysis\n",
        "\n",
        "micrometer = np.array([Micrometerreading_13,Micrometerreading_12,Micrometerreading_11,Micrometerreading_10,Micrometerreading_9,\n",
        "                        Micrometerreading_8,Micrometerreading_7,Micrometerreading_6,Micrometerreading_5,Micrometerreading_4,\n",
        "                        Micrometerreading_3,Micrometerreading_2,Micrometerreading_1])\n",
        "\n",
        "manometer = np.array([Manometerreading_13,Manometerreading_12,Manometerreading_11,Manometerreading_10,Manometerreading_9,\n",
        "                        Manometerreading_8,Manometerreading_7,Manometerreading_6,Manometerreading_5,Manometerreading_4,\n",
        "                        Manometerreading_3,Manometerreading_2,Manometerreading_1])\n",
        "\n",
        "\n",
        "#This subtracts the wall offset and the static manometer readings and converts the manometer to pressure\n",
        "micrometer = micrometer - wall_offset\n",
        "\n",
        "#Converting the pressure to velocity\n",
        "U = np.sqrt(2*0.001*(manometer - static_manometer)*np.cos(theta*np.pi/180)*rho_water*g/rho)\n",
        "\n",
        "#The below uses Pandas to write the data to a csv file that you can later on read for analysis\n",
        "filename = '___.csv'\n",
        "\n",
        "data = pd.DataFrame({\"Wall position (mm)\" : micrometer, \"Velocity (m/s)\" : U})\n",
        "data.to_csv(filename, index=False)"
      ]
    },
    {
      "cell_type": "markdown",
      "metadata": {
        "id": "RL6kJyeJwfOM"
      },
      "source": [
        "## $ReL=$ #CASE 2"
      ]
    },
    {
      "cell_type": "code",
      "execution_count": null,
      "metadata": {
        "id": "14MzBdGGwfOM"
      },
      "outputs": [],
      "source": [
        "#Probe should be ~10mm of wall (These are approximate distances)\n",
        "Micrometerreading_1 = 19.41\n",
        "Manometerreading_1 = 234\n",
        "\n",
        "#Probe should be ~8mm of wall (These are approximate distances)\n",
        "Micrometerreading_2 = 17.41\n",
        "Manometerreading_2 = 234\n",
        "\n",
        "#Probe should be ~7mm of wall (These are approximate distances)\n",
        "Micrometerreading_3 = 16.41\n",
        "Manometerreading_3 = 234\n",
        "\n",
        "#Probe should be ~6mm of wall (These are approximate distances)\n",
        "Micrometerreading_4 = 15.41\n",
        "Manometerreading_4 = 234\n",
        "\n",
        "#Probe should be ~5mm of wall (These are approximate distances)\n",
        "Micrometerreading_5 = 14.41\n",
        "Manometerreading_5 = 233\n",
        "\n",
        "#Probe should be ~4mm of wall (These are approximate distances)\n",
        "Micrometerreading_6 = 13.41\n",
        "Manometerreading_6 = 231\n",
        "\n",
        "#Probe should be ~3mm of wall (These are approximate distances)\n",
        "Micrometerreading_7 = 12.41\n",
        "Manometerreading_7 = 226\n",
        "\n",
        "#Probe should be ~2mm of wall (These are approximate distances)\n",
        "Micrometerreading_8 = 11.41\n",
        "Manometerreading_8 = 215\n",
        "\n",
        "#Probe should be ~1.8mm of wall (These are approximate distances)\n",
        "Micrometerreading_9 = 11.21\n",
        "Manometerreading_9 = 212\n",
        "\n",
        "#Probe should be ~1.4mm of wall (These are approximate distances)\n",
        "Micrometerreading_10 = 10.81\n",
        "Manometerreading_10 =\n",
        "\n",
        "#Probe should be ~1mm of wall (These are approximate distances)\n",
        "Micrometerreading_11 =\n",
        "Manometerreading_11 =\n",
        "\n",
        "#Probe should be ~0.6mm of wall (These are approximate distances)\n",
        "Micrometerreading_12 =\n",
        "Manometerreading_12 =\n",
        "\n",
        "#Probe should be ~0.2mm of wall(These are approximate distances)\n",
        "Micrometerreading_13 =\n",
        "Manometerreading_13 =\n",
        "\n",
        "# Enter the micrometer reading when the probe is just touching the wall\n",
        "#This is value in mm\n",
        "wall_offset =\n",
        "\n",
        "# We are going to take the above manometer values, compile that into an array and convert the pressure readings to velocity.\n",
        "# Note that the numbers are entered in to the array in reverse order so that the data appears from the wall to the freestream\n",
        "#This is easier to plot and also write to file and carry out curve fits during analysis\n",
        "\n",
        "micrometer = np.array([Micrometerreading_13,Micrometerreading_12,Micrometerreading_11,Micrometerreading_10,Micrometerreading_9,\n",
        "                        Micrometerreading_8,Micrometerreading_7,Micrometerreading_6,Micrometerreading_5,Micrometerreading_4,\n",
        "                        Micrometerreading_3,Micrometerreading_2,Micrometerreading_1])\n",
        "\n",
        "manometer = np.array([Manometerreading_13,Manometerreading_12,Manometerreading_11,Manometerreading_10,Manometerreading_9,\n",
        "                        Manometerreading_8,Manometerreading_7,Manometerreading_6,Manometerreading_5,Manometerreading_4,\n",
        "                        Manometerreading_3,Manometerreading_2,Manometerreading_1])\n",
        "\n",
        "\n",
        "#This subtracts the wall offset and the static manometer readings and converts the manometer to pressure\n",
        "micrometer = micrometer - wall_offset\n",
        "\n",
        "#Converting the pressure to velocity\n",
        "U = np.sqrt(2*0.001*(manometer - static_manometer)*np.cos(theta*np.pi/180)*rho_water*g/rho)\n",
        "\n",
        "#The below uses Pandas to write the data to a csv file that you can later on read for analysis\n",
        "filename = '___.csv'\n",
        "\n",
        "data = pd.DataFrame({\"Wall position (mm)\" : micrometer, \"Velocity (m/s)\" : U})\n",
        "data.to_csv(filename, index=False)"
      ]
    },
    {
      "cell_type": "markdown",
      "metadata": {
        "id": "uQA8iAeywfOM"
      },
      "source": [
        "### With this we have completed the measurements required for this boundary layer lab. We will now need to load the data and start the post processing"
      ]
    },
    {
      "cell_type": "markdown",
      "metadata": {
        "id": "kfe-ShVZwfON"
      },
      "source": [
        "## Post-Processing- Analysis of the boundary layer profiles and calculating viscous drag coefficient\n",
        "\n",
        "Now that we have collected the data, it's time to analyse it. The main objectives of the analysis are as follows:\n",
        "\n",
        "1. Boundary Layer Profile Variation with Reynolds Number:\n",
        "Create a plot that illustrates the relationship between velocity and distance based on your measurements. Use the data to describe the characteristics of the boundary layer in your report. Consider factors such as the shape, growth, and behavior of the boundary layer as Reynolds number changes.\n",
        "\n",
        "2. Variation of Viscous Drag Coefficient ($C_F$) with Reynolds Number:\n",
        "Calculate the viscous drag coefficient ($C_F$) for each of the cases using the experimental data. Plot $C_F$ against the corresponding Reynolds numbers. Consult your viscous flow notes and collaborate with your group members to determine the appropriate method for calculating $C_F$ from the experimental data.\n",
        "\n",
        "For bonus points:\n",
        "\n",
        "Calculate the boundary layer thickness and local skin-friction coefficient. Compare and contrast the local and total friction coefficients, discussing any similarities or differences you observe.\n"
      ]
    },
    {
      "cell_type": "code",
      "execution_count": null,
      "metadata": {
        "id": "59-hgXu8wfON"
      },
      "outputs": [],
      "source": [
        "#Your code goes here!\n",
        "# Start by reading the files\n",
        "data1 = pd.read_csv(\"___.csv\")\n",
        "y1,U1 = data.columns #.....\n",
        "\n",
        "#Now plot the boundary layer profiles for all the 6 cases in a single figure\n",
        "plt.figure()\n",
        "plt.plot(U1, y1)#...\n",
        "\n",
        "\n",
        "# Your code for calculating CF for the two cases you have measured goes here!\n",
        "momt1=\n",
        "CF1=\n",
        "\n",
        "# note down the CF and RE values measured by your groupmates\n"
      ]
    },
    {
      "cell_type": "markdown",
      "metadata": {
        "id": "Bb1Cb0OywfON"
      },
      "source": [
        "## SHARE THIS DATA WITH YOUR GROUP AND NOTE DOWN THEIR $C_F$ AND $ReL$ DATA"
      ]
    },
    {
      "cell_type": "code",
      "execution_count": null,
      "metadata": {
        "id": "FPZRaFv6wfON"
      },
      "outputs": [],
      "source": [
        "#Compile the collected data for the viscous drag coefficient.\n",
        "CFArray=\n",
        "\n",
        "\n",
        "# Compile the calculated Reynolds numbers into an array\n",
        "ReArray=\n",
        "\n",
        "# Plot the CF vs ReL here!\n",
        "plt.figure()\n",
        "\n",
        "\n",
        "# Fit a power-law curve to this data\n",
        "\n",
        "\n",
        "# save the graphs as high quality images and use them in your lab report.\n",
        "\n",
        "#Bonus -  Calculate the displacement thickness and local skin-friction coefficient\n"
      ]
    },
    {
      "cell_type": "markdown",
      "metadata": {
        "id": "5hOPzbvpwfON"
      },
      "source": [
        "### One of the higher Reynolds number cases that you have measured is similar to the Reynolds number of the flow over the wing (last lab). You should be able to estimate the viscous drag experienced by that wing based on the data you have obtained here. Use it in the lab report!"
      ]
    },
    {
      "cell_type": "code",
      "execution_count": null,
      "metadata": {
        "id": "MnwR8OkkwfON"
      },
      "outputs": [],
      "source": []
    }
  ],
  "metadata": {
    "kernelspec": {
      "display_name": "Python 3",
      "language": "python",
      "name": "python3"
    },
    "language_info": {
      "codemirror_mode": {
        "name": "ipython",
        "version": 3
      },
      "file_extension": ".py",
      "mimetype": "text/x-python",
      "name": "python",
      "nbconvert_exporter": "python",
      "pygments_lexer": "ipython3",
      "version": "3.8.8"
    },
    "colab": {
      "provenance": [],
      "include_colab_link": true
    }
  },
  "nbformat": 4,
  "nbformat_minor": 0
}